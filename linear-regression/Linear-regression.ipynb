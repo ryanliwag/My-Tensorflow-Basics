{
 "cells": [
  {
   "cell_type": "markdown",
   "metadata": {},
   "source": [
    "Simple Tensorflow implementation of linear regression on philippines weather data on temperature and rainfall records from 1990 to 2012. Data was taken from http://sdwebx.worldbank.org/climateportal/index.cfm?page=country_historical_climate&ThisCCode=PHL"
   ]
  },
  {
   "cell_type": "code",
   "execution_count": 1,
   "metadata": {
    "collapsed": false
   },
   "outputs": [],
   "source": [
    "import tensorflow as tf\n",
    "import numpy as np\n",
    "import csv \n",
    "import matplotlib.pyplot as plt"
   ]
  },
  {
   "cell_type": "code",
   "execution_count": 2,
   "metadata": {
    "collapsed": false
   },
   "outputs": [],
   "source": [
    "rainfall, temperature = [],[] #create empty lists for data\n",
    "with open('PHL_temp_rain.csv','r') as f:\n",
    "    reader = csv.reader(f)\n",
    "    data = list(reader)[1:]\n",
    "    for row_data in data:\n",
    "        temperature.append(row_data[0])\n",
    "        rainfall.append(row_data[2])"
   ]
  },
  {
   "cell_type": "code",
   "execution_count": 3,
   "metadata": {
    "collapsed": true
   },
   "outputs": [],
   "source": [
    "#Training Parameter\n",
    "number_of_steps = 500\n",
    "learning_rate = 0.01 \n",
    "display_steps = 10"
   ]
  },
  {
   "cell_type": "code",
   "execution_count": 4,
   "metadata": {
    "collapsed": false
   },
   "outputs": [],
   "source": [
    "#Tensors cant be feed directly, it should be numpy array format\n",
    "train_x = np.asarray(temperature, dtype=np.float32) \n",
    "train_y = np.asarray(rainfall, dtype=np.float32) \n",
    "size = len(rainfall) \n",
    "\n",
    "#X the predictor and Y the variable we are predicting\n",
    "# tf Graph Input\n",
    "X = tf.placeholder(\"float\")\n",
    "Y = tf.placeholder(\"float\")"
   ]
  },
  {
   "cell_type": "code",
   "execution_count": 5,
   "metadata": {
    "collapsed": false
   },
   "outputs": [],
   "source": [
    "W = tf.Variable(np.random.randn(), name=\"weight\")\n",
    "B = tf.Variable(np.random.randn(), name=\"biases\")\n",
    "pred = tf.add(tf.mul(X, W), B)\n",
    "\n",
    "# Mean squared error\n",
    "cost = tf.reduce_sum(tf.pow(pred-Y, 2))/(2*size)\n",
    "# Gradient descent\n",
    "optimizer = tf.train.GradientDescentOptimizer(learning_rate).minimize(cost)\n",
    "init = tf.global_variables_initializer()"
   ]
  },
  {
   "cell_type": "code",
   "execution_count": 6,
   "metadata": {
    "collapsed": false
   },
   "outputs": [
    {
     "name": "stdout",
     "output_type": "stream",
     "text": [
      "Epoch: 0010 cost= 4439.657226562 W= 8.15598 b= -0.118624\n",
      "Epoch: 0020 cost= 4439.656250000 W= 8.15628 b= -0.126479\n",
      "Epoch: 0030 cost= 4439.655761719 W= 8.15659 b= -0.134335\n",
      "Epoch: 0040 cost= 4439.655273438 W= 8.15689 b= -0.142193\n",
      "Epoch: 0050 cost= 4439.652832031 W= 8.15719 b= -0.15005\n",
      "Epoch: 0060 cost= 4439.652832031 W= 8.15749 b= -0.157906\n",
      "Epoch: 0070 cost= 4439.651855469 W= 8.15779 b= -0.16576\n",
      "Epoch: 0080 cost= 4439.650390625 W= 8.15809 b= -0.173612\n",
      "Epoch: 0090 cost= 4439.649902344 W= 8.15839 b= -0.181461\n",
      "Epoch: 0100 cost= 4439.647949219 W= 8.15869 b= -0.18931\n",
      "Epoch: 0110 cost= 4439.647460938 W= 8.15899 b= -0.19716\n",
      "Epoch: 0120 cost= 4439.645996094 W= 8.15928 b= -0.205007\n",
      "Epoch: 0130 cost= 4439.645507812 W= 8.15958 b= -0.212853\n",
      "Epoch: 0140 cost= 4439.644531250 W= 8.15988 b= -0.220698\n",
      "Epoch: 0150 cost= 4439.643066406 W= 8.16018 b= -0.228542\n",
      "Epoch: 0160 cost= 4439.641113281 W= 8.16048 b= -0.236386\n",
      "Epoch: 0170 cost= 4439.642089844 W= 8.16079 b= -0.244229\n",
      "Epoch: 0180 cost= 4439.641601562 W= 8.16108 b= -0.252075\n",
      "Epoch: 0190 cost= 4439.638671875 W= 8.16138 b= -0.25992\n",
      "Epoch: 0200 cost= 4439.638183594 W= 8.16168 b= -0.267765\n",
      "Epoch: 0210 cost= 4439.636718750 W= 8.16198 b= -0.275611\n",
      "Epoch: 0220 cost= 4439.636230469 W= 8.16228 b= -0.283457\n",
      "Epoch: 0230 cost= 4439.635253906 W= 8.16258 b= -0.291303\n",
      "Epoch: 0240 cost= 4439.634765625 W= 8.16288 b= -0.299149\n",
      "Epoch: 0250 cost= 4439.633300781 W= 8.16318 b= -0.306994\n",
      "Epoch: 0260 cost= 4439.632324219 W= 8.16348 b= -0.314832\n",
      "Epoch: 0270 cost= 4439.631835938 W= 8.16378 b= -0.322669\n",
      "Epoch: 0280 cost= 4439.629882812 W= 8.16408 b= -0.330504\n",
      "Epoch: 0290 cost= 4439.628906250 W= 8.16438 b= -0.338336\n",
      "Epoch: 0300 cost= 4439.628417969 W= 8.16468 b= -0.346167\n",
      "Epoch: 0310 cost= 4439.627441406 W= 8.16498 b= -0.353999\n",
      "Epoch: 0320 cost= 4439.626953125 W= 8.16528 b= -0.361829\n",
      "Epoch: 0330 cost= 4439.627441406 W= 8.16558 b= -0.369659\n",
      "Epoch: 0340 cost= 4439.625976562 W= 8.16588 b= -0.377489\n",
      "Epoch: 0350 cost= 4439.625976562 W= 8.16618 b= -0.385322\n",
      "Epoch: 0360 cost= 4439.623535156 W= 8.16648 b= -0.393154\n",
      "Epoch: 0370 cost= 4439.621582031 W= 8.16677 b= -0.400986\n",
      "Epoch: 0380 cost= 4439.621093750 W= 8.16708 b= -0.408818\n",
      "Epoch: 0390 cost= 4439.620605469 W= 8.16737 b= -0.416654\n",
      "Epoch: 0400 cost= 4439.619140625 W= 8.16767 b= -0.424488\n",
      "Epoch: 0410 cost= 4439.618652344 W= 8.16797 b= -0.432316\n",
      "Epoch: 0420 cost= 4439.617675781 W= 8.16827 b= -0.440143\n",
      "Epoch: 0430 cost= 4439.615722656 W= 8.16857 b= -0.447969\n",
      "Epoch: 0440 cost= 4439.614746094 W= 8.16887 b= -0.45579\n",
      "Epoch: 0450 cost= 4439.615234375 W= 8.16917 b= -0.463613\n",
      "Epoch: 0460 cost= 4439.613769531 W= 8.16947 b= -0.471432\n",
      "Epoch: 0470 cost= 4439.612304688 W= 8.16977 b= -0.479247\n",
      "Epoch: 0480 cost= 4439.611816406 W= 8.17006 b= -0.487065\n",
      "Epoch: 0490 cost= 4439.609375000 W= 8.17036 b= -0.494882\n",
      "Epoch: 0500 cost= 4439.608398438 W= 8.17066 b= -0.502703\n",
      "Optimization Finished!\n",
      "Training cost= 4439.61 W= 8.17066 b= -0.502703 \n",
      "\n"
     ]
    },
    {
     "data": {
      "image/png": "[encoded data removed]",
      "text/plain": [
       "<matplotlib.figure.Figure at 0x7f034e908b00>"
      ]
     },
     "metadata": {},
     "output_type": "display_data"
    }
   ],
   "source": [
    "with tf.Session() as sess:\n",
    "    sess.run(init)\n",
    "\n",
    "    # Fit all training data\n",
    "    for epoch in range(number_of_steps):\n",
    "        for (x, y) in zip(train_x, train_y):\n",
    "            sess.run(optimizer, feed_dict={X: x, Y: y})\n",
    "\n",
    "        #Display logs per epoch step\n",
    "        if (epoch+1) % display_steps == 0:\n",
    "            c = sess.run(cost, feed_dict={X: train_x, Y:train_y})\n",
    "            print (\"Epoch:\", '%04d' % (epoch+1), \"cost=\", \"{:.9f}\".format(c), \\\n",
    "                \"W=\", sess.run(W), \"b=\", sess.run(B))\n",
    "\n",
    "    print (\"Optimization Finished!\")\n",
    "    training_cost = sess.run(cost, feed_dict={X: train_x, Y: train_y})\n",
    "    print (\"Training cost=\", training_cost, \"W=\", sess.run(W), \"b=\", sess.run(B), '\\n')\n",
    "\n",
    "    #graphics display\n",
    "    plt.plot(train_x, train_y, 'ro', label='data')\n",
    "    plt.plot(train_x, sess.run(W) * train_x + sess.run(B), label='Fitted line')\n",
    "    plt.legend()\n",
    "    plt.show()"
   ]
  },
  {
   "cell_type": "markdown",
   "metadata": {},
   "source": [
    "Haha basing off the ugly plot of data, there may be too little interdependance between rainfall and temperature alone. I guess I should have plotted the shape of the data before feeding it into a linear model. But nonetheless I get to try the ipython notebook for the first time with the tensorflow library.  "
   ]
  }
 ],
 "metadata": {
  "kernelspec": {
   "display_name": "Python 3",
   "language": "python",
   "name": "python3"
  },
  "language_info": {
   "codemirror_mode": {
    "name": "ipython",
    "version": 3
   },
   "file_extension": ".py",
   "mimetype": "text/x-python",
   "name": "python",
   "nbconvert_exporter": "python",
   "pygments_lexer": "ipython3",
   "version": "3.5.2"
  }
 },
 "nbformat": 4,
 "nbformat_minor": 2
}
